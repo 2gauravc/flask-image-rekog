{
 "cells": [
  {
   "cell_type": "code",
   "execution_count": 2,
   "metadata": {
    "collapsed": true
   },
   "outputs": [],
   "source": [
    "import requests"
   ]
  },
  {
   "cell_type": "code",
   "execution_count": 3,
   "metadata": {
    "collapsed": true
   },
   "outputs": [],
   "source": [
    "api_key = 'acc_43a212cace97cc9'\n",
    "api_secret = 'a91461f1c5022a79b419f453e6a14aff'"
   ]
  },
  {
   "cell_type": "code",
   "execution_count": 4,
   "metadata": {
    "collapsed": true
   },
   "outputs": [],
   "source": [
    "image_url = 'http://www.ikea.com/ms/media/cho_room/20153/kitchen/20153_cosk07a/20153_cosk07a_01_PH124156.jpg'\n"
   ]
  },
  {
   "cell_type": "code",
   "execution_count": 5,
   "metadata": {
    "collapsed": false
   },
   "outputs": [],
   "source": [
    "response = requests.get('https://api.imagga.com/v1/tagging?url=%s' % image_url, \n",
    "auth=(api_key, api_secret))"
   ]
  },
  {
   "cell_type": "code",
   "execution_count": 6,
   "metadata": {
    "collapsed": false
   },
   "outputs": [
    {
     "name": "stdout",
     "output_type": "stream",
     "text": [
      "{'results': [{'image': 'http://www.ikea.com/ms/media/cho_room/20153/kitchen/20153_cosk07a/20153_cosk07a_01_PH124156.jpg', 'tags': [{'tag': 'counter', 'confidence': 52.96347087307667}, {'tag': 'interior', 'confidence': 42.370611513412285}, {'tag': 'home', 'confidence': 37.94226714404979}, {'tag': 'room', 'confidence': 35.142554368557036}, {'tag': 'kitchen', 'confidence': 33.35791683191227}, {'tag': 'table', 'confidence': 29.880701234374254}, {'tag': 'house', 'confidence': 29.277115799055448}, {'tag': 'modern', 'confidence': 29.16889743667307}, {'tag': 'furniture', 'confidence': 27.961311536476856}, {'tag': 'decor', 'confidence': 23.206594734107433}, {'tag': 'chair', 'confidence': 22.39449436913486}, {'tag': 'luxury', 'confidence': 20.777448772263657}, {'tag': 'floor', 'confidence': 20.398780070253643}, {'tag': 'wood', 'confidence': 20.359815200907885}, {'tag': 'design', 'confidence': 19.856153367754384}, {'tag': 'indoors', 'confidence': 18.797125484773016}, {'tag': 'sofa', 'confidence': 18.093894163853207}, {'tag': 'living', 'confidence': 17.912630806361495}, {'tag': 'indoor', 'confidence': 17.590124155901915}, {'tag': '3d', 'confidence': 17.53254500530023}, {'tag': 'architecture', 'confidence': 17.51976558629722}, {'tag': 'apartment', 'confidence': 17.35443101960663}, {'tag': 'comfortable', 'confidence': 17.056789916736122}, {'tag': 'inside', 'confidence': 16.976962756244077}, {'tag': 'decoration', 'confidence': 15.259531147014727}, {'tag': 'window', 'confidence': 14.993113353831529}, {'tag': 'lamp', 'confidence': 14.928844799938568}, {'tag': 'light', 'confidence': 14.246858622937406}, {'tag': 'lifestyle', 'confidence': 13.172888608168762}, {'tag': 'cooking', 'confidence': 12.737665245664529}, {'tag': 'contemporary', 'confidence': 12.430205886908729}, {'tag': 'glass', 'confidence': 12.388054229626505}, {'tag': 'new', 'confidence': 12.279581729590825}, {'tag': 'couch', 'confidence': 11.876636062105312}, {'tag': 'residential', 'confidence': 11.850447426260834}, {'tag': 'wall', 'confidence': 11.176583321580015}, {'tag': 'estate', 'confidence': 10.905133092092582}, {'tag': 'cook', 'confidence': 10.577531289742137}, {'tag': 'carpet', 'confidence': 10.346307949796737}, {'tag': 'cabinet', 'confidence': 10.207596052611354}, {'tag': 'food', 'confidence': 10.025434328049096}, {'tag': 'domestic', 'confidence': 9.763710459898682}, {'tag': 'dining', 'confidence': 9.476182661769956}, {'tag': 'elegant', 'confidence': 9.358779302001373}, {'tag': 'door', 'confidence': 9.336679162235464}, {'tag': 'render', 'confidence': 9.1595844671109}, {'tag': 'sink', 'confidence': 9.153581750680475}, {'tag': 'property', 'confidence': 8.778369532295295}, {'tag': 'stove', 'confidence': 8.486111699170493}, {'tag': 'space', 'confidence': 8.272986638043216}, {'tag': 'expensive', 'confidence': 8.017727994650048}, {'tag': 'real', 'confidence': 7.785284233238054}, {'tag': 'restaurant', 'confidence': 7.763428483121568}, {'tag': 'chairs', 'confidence': 7.342332928174435}, {'tag': 'steel', 'confidence': 7.20163076424093}], 'tagging_id': None}]}\n"
     ]
    }
   ],
   "source": [
    "print (response.json())"
   ]
  },
  {
   "cell_type": "code",
   "execution_count": null,
   "metadata": {
    "collapsed": true
   },
   "outputs": [],
   "source": []
  }
 ],
 "metadata": {
  "anaconda-cloud": {},
  "kernelspec": {
   "display_name": "Python [Root]",
   "language": "python",
   "name": "Python [Root]"
  },
  "language_info": {
   "codemirror_mode": {
    "name": "ipython",
    "version": 3
   },
   "file_extension": ".py",
   "mimetype": "text/x-python",
   "name": "python",
   "nbconvert_exporter": "python",
   "pygments_lexer": "ipython3",
   "version": "3.5.2"
  }
 },
 "nbformat": 4,
 "nbformat_minor": 0
}
