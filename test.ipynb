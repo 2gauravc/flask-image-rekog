{
 "cells": [
  {
   "cell_type": "code",
   "execution_count": 1,
   "metadata": {
    "collapsed": true
   },
   "outputs": [],
   "source": [
    "import requests"
   ]
  },
  {
   "cell_type": "code",
   "execution_count": 2,
   "metadata": {
    "collapsed": true
   },
   "outputs": [],
   "source": [
    "api_key = 'acc_43a212cace97cc9'\n",
    "api_secret = 'a91461f1c5022a79b419f453e6a14aff'"
   ]
  },
  {
   "cell_type": "code",
   "execution_count": 3,
   "metadata": {
    "collapsed": true
   },
   "outputs": [],
   "source": [
    "image_url = 'http://www.arup.com/~/media/Images/Countries/Singapore/Singapore_Marina_Bay_sands.ashx?h=395&w=962'\n"
   ]
  },
  {
   "cell_type": "code",
   "execution_count": 4,
   "metadata": {
    "collapsed": false
   },
   "outputs": [],
   "source": [
    "response = requests.get('https://api.imagga.com/v1/tagging?url=%s' % image_url, \n",
    "auth=(api_key, api_secret))"
   ]
  },
  {
   "cell_type": "code",
   "execution_count": 5,
   "metadata": {
    "collapsed": false
   },
   "outputs": [
    {
     "name": "stdout",
     "output_type": "stream",
     "text": [
      "{'results': [{'tagging_id': None, 'tags': [{'confidence': 69.08147073223134, 'tag': 'marina'}, {'confidence': 48.156615059065764, 'tag': 'waterfront'}, {'confidence': 42.16989339700548, 'tag': 'boat'}, {'confidence': 36.24360575800602, 'tag': 'water'}, {'confidence': 36.18096998988485, 'tag': 'city'}, {'confidence': 33.42047666988001, 'tag': 'dock'}, {'confidence': 32.943191768665976, 'tag': 'harbor'}, {'confidence': 32.386979936092956, 'tag': 'sea'}, {'confidence': 27.015326988764663, 'tag': 'boats'}, {'confidence': 26.202764802837475, 'tag': 'ship'}, {'confidence': 25.84098494618674, 'tag': 'building'}, {'confidence': 25.094513700812357, 'tag': 'port'}, {'confidence': 24.882489946748244, 'tag': 'sky'}, {'confidence': 23.723640142010836, 'tag': 'travel'}, {'confidence': 22.248078958072764, 'tag': 'bay'}, {'confidence': 21.85695558251478, 'tag': 'cityscape'}, {'confidence': 21.01053319219903, 'tag': 'architecture'}, {'confidence': 19.994972682351168, 'tag': 'ocean'}, {'confidence': 19.612207465647803, 'tag': 'urban'}, {'confidence': 18.84599934512618, 'tag': 'tourism'}, {'confidence': 18.78200206022689, 'tag': 'europe'}, {'confidence': 18.488041432553448, 'tag': 'yacht'}, {'confidence': 18.253823439682037, 'tag': 'pier'}, {'confidence': 17.638877556338713, 'tag': 'reflection'}, {'confidence': 16.751013532200183, 'tag': 'buildings'}, {'confidence': 16.047046642285597, 'tag': 'mediterranean'}, {'confidence': 15.544141248545847, 'tag': 'river'}, {'confidence': 14.800194844049098, 'tag': 'town'}, {'confidence': 14.525499024040146, 'tag': 'resort'}, {'confidence': 14.41669485561414, 'tag': 'skyline'}, {'confidence': 14.279534612974013, 'tag': 'harbour'}, {'confidence': 14.273465046273438, 'tag': 'structure'}, {'confidence': 13.74064382130475, 'tag': 'coast'}, {'confidence': 13.058889322503518, 'tag': 'tourist'}, {'confidence': 12.875537178145104, 'tag': 'sailboat'}, {'confidence': 12.730241125346831, 'tag': 'sail'}, {'confidence': 12.728813487117732, 'tag': 'vessel'}, {'confidence': 12.347461554188918, 'tag': 'old'}, {'confidence': 11.758012964519152, 'tag': 'landscape'}, {'confidence': 11.562402827043488, 'tag': 'summer'}, {'confidence': 11.42354564927335, 'tag': 'bridge'}, {'confidence': 11.18802772779244, 'tag': 'sailing'}, {'confidence': 11.147086463482031, 'tag': 'vacation'}, {'confidence': 10.942018297242367, 'tag': 'landmark'}, {'confidence': 10.894859008367618, 'tag': 'night'}, {'confidence': 10.691538651759537, 'tag': 'house'}, {'confidence': 10.123712247370323, 'tag': 'hotel'}, {'confidence': 9.57312326565733, 'tag': 'nautical'}, {'confidence': 9.484592989111977, 'tag': 'transport'}, {'confidence': 9.393768766756725, 'tag': 'transportation'}, {'confidence': 9.377735929837307, 'tag': 'tower'}, {'confidence': 9.318978002333358, 'tag': 'spain'}, {'confidence': 9.2362510233872, 'tag': 'downtown'}, {'confidence': 9.128031067697245, 'tag': 'modern'}, {'confidence': 9.054192208727985, 'tag': 'scenic'}, {'confidence': 8.975397749911972, 'tag': 'coastline'}, {'confidence': 8.949903708723816, 'tag': 'street'}, {'confidence': 8.857802636090158, 'tag': 'clouds'}, {'confidence': 8.782858014990959, 'tag': 'day'}, {'confidence': 8.63318048713718, 'tag': 'houses'}, {'confidence': 8.619391986989797, 'tag': 'fishing'}, {'confidence': 8.564455479401241, 'tag': 'skyscraper'}, {'confidence': 8.324093211643264, 'tag': 'scene'}, {'confidence': 8.124632534744531, 'tag': 'wharf'}, {'confidence': 7.709804130579613, 'tag': 'landing'}, {'confidence': 7.631281959034262, 'tag': 'panorama'}, {'confidence': 7.44, 'tag': 'resort hotel'}, {'confidence': 7.423177189738655, 'tag': 'beach'}, {'confidence': 7.378907342013116, 'tag': 'sunset'}, {'confidence': 7.368314936089638, 'tag': 'lake'}, {'confidence': 7.174711436729887, 'tag': 'island'}, {'confidence': 7.127866146671352, 'tag': 'scenery'}, {'confidence': 7.0546689912607325, 'tag': 'dusk'}], 'image': 'http://www.arup.com/~/media/Images/Countries/Singapore/Singapore_Marina_Bay_sands.ashx?h=395'}]}\n"
     ]
    }
   ],
   "source": [
    "print (response.json())"
   ]
  },
  {
   "cell_type": "code",
   "execution_count": null,
   "metadata": {
    "collapsed": true
   },
   "outputs": [],
   "source": []
  }
 ],
 "metadata": {
  "anaconda-cloud": {},
  "kernelspec": {
   "display_name": "Python [Root]",
   "language": "python",
   "name": "Python [Root]"
  },
  "language_info": {
   "codemirror_mode": {
    "name": "ipython",
    "version": 3
   },
   "file_extension": ".py",
   "mimetype": "text/x-python",
   "name": "python",
   "nbconvert_exporter": "python",
   "pygments_lexer": "ipython3",
   "version": "3.5.2"
  }
 },
 "nbformat": 4,
 "nbformat_minor": 0
}
